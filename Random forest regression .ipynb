{
 "cells": [
  {
   "cell_type": "code",
   "execution_count": 4,
   "id": "4759874b",
   "metadata": {},
   "outputs": [
    {
     "data": {
      "text/html": [
       "<div>\n",
       "<style scoped>\n",
       "    .dataframe tbody tr th:only-of-type {\n",
       "        vertical-align: middle;\n",
       "    }\n",
       "\n",
       "    .dataframe tbody tr th {\n",
       "        vertical-align: top;\n",
       "    }\n",
       "\n",
       "    .dataframe thead th {\n",
       "        text-align: right;\n",
       "    }\n",
       "</style>\n",
       "<table border=\"1\" class=\"dataframe\">\n",
       "  <thead>\n",
       "    <tr style=\"text-align: right;\">\n",
       "      <th></th>\n",
       "      <th>Temperature</th>\n",
       "      <th>Revenue</th>\n",
       "    </tr>\n",
       "  </thead>\n",
       "  <tbody>\n",
       "    <tr>\n",
       "      <th>0</th>\n",
       "      <td>24.566884</td>\n",
       "      <td>534.799028</td>\n",
       "    </tr>\n",
       "    <tr>\n",
       "      <th>1</th>\n",
       "      <td>26.005191</td>\n",
       "      <td>625.190122</td>\n",
       "    </tr>\n",
       "    <tr>\n",
       "      <th>2</th>\n",
       "      <td>27.790554</td>\n",
       "      <td>660.632289</td>\n",
       "    </tr>\n",
       "    <tr>\n",
       "      <th>3</th>\n",
       "      <td>20.595335</td>\n",
       "      <td>487.706960</td>\n",
       "    </tr>\n",
       "    <tr>\n",
       "      <th>4</th>\n",
       "      <td>11.503498</td>\n",
       "      <td>316.240194</td>\n",
       "    </tr>\n",
       "  </tbody>\n",
       "</table>\n",
       "</div>"
      ],
      "text/plain": [
       "   Temperature     Revenue\n",
       "0    24.566884  534.799028\n",
       "1    26.005191  625.190122\n",
       "2    27.790554  660.632289\n",
       "3    20.595335  487.706960\n",
       "4    11.503498  316.240194"
      ]
     },
     "execution_count": 4,
     "metadata": {},
     "output_type": "execute_result"
    }
   ],
   "source": [
    "import pandas as pd\n",
    "import numpy as np\n",
    "import seaborn as sna\n",
    "import matplotlib.pyplot as plt\n",
    "data=pd.read_csv('https://raw.githubusercontent.com/mk-gurucharan/Regression/master/IceCreamData.csv')\n",
    "data.head()"
   ]
  },
  {
   "cell_type": "code",
   "execution_count": 17,
   "id": "a454d5d7",
   "metadata": {},
   "outputs": [],
   "source": [
    "x=data.iloc[:,0:-1].values\n",
    "y=data.iloc[:,-1].values"
   ]
  },
  {
   "cell_type": "code",
   "execution_count": 18,
   "id": "db653096",
   "metadata": {},
   "outputs": [],
   "source": [
    "from sklearn.model_selection import train_test_split\n",
    "x_train,x_test,y_train,y_test=train_test_split(x,y,test_size=0.2,random_state=0)\n"
   ]
  },
  {
   "cell_type": "code",
   "execution_count": 32,
   "id": "f4c126ae",
   "metadata": {},
   "outputs": [
    {
     "data": {
      "text/plain": [
       "array([690.80329294, 660.056357  , 678.13349272, 463.21685004,\n",
       "       664.55940352, 429.33482982, 573.33163261, 639.75667491,\n",
       "       667.17569   , 477.26622079, 520.69586739, 444.77299945,\n",
       "       651.18125973, 375.90495241, 350.96760396, 964.96918197,\n",
       "       911.52554158, 692.28826862, 520.69586739, 397.91519898,\n",
       "       380.85047967, 608.89563966, 283.22224328, 702.5548558 ,\n",
       "       403.86302584, 429.81139929, 362.2059325 , 503.44398097,\n",
       "       471.58069107, 455.78131508, 632.71279735, 284.29414682,\n",
       "       299.75872484, 481.31331102, 555.7182902 , 543.07167929,\n",
       "       327.76171638, 533.85591053, 536.34176844, 723.46359621,\n",
       "       435.70524018, 497.09345988, 586.52942359, 449.67649137,\n",
       "       929.92720826, 586.2546414 , 545.14640052, 206.64687564,\n",
       "       693.31975734, 341.13512468, 209.30700174, 558.36620139,\n",
       "       209.05603333, 461.60876253, 443.36386453, 416.47722026,\n",
       "       503.64788826, 808.18389464, 334.70724951, 543.59067939,\n",
       "       654.95980179, 517.6003417 , 369.46935472, 460.9105529 ,\n",
       "       640.46854713, 234.47534284, 312.56728426, 529.17467373,\n",
       "       667.03648255, 646.93532619, 738.3163005 , 194.14482036,\n",
       "       592.15998759, 220.45162939, 438.65601557, 629.93018504,\n",
       "       678.13349272, 510.71595649, 782.56901231, 420.04478412,\n",
       "       186.39842734, 825.38920686, 450.97345765, 337.95817618,\n",
       "       660.75491305, 575.78653233, 413.95115629, 664.82514731,\n",
       "       844.02110334, 302.2793573 , 573.11319356,  50.88775611,\n",
       "       932.69332206, 640.46854713, 756.16684923, 473.01228775,\n",
       "       756.16684923, 710.89747132, 384.1998773 , 555.7182902 ])"
      ]
     },
     "execution_count": 32,
     "metadata": {},
     "output_type": "execute_result"
    }
   ],
   "source": [
    "from sklearn.ensemble import RandomForestRegressor\n",
    "Regressor=RandomForestRegressor(n_estimators=10)\n",
    "Regressor.fit(x_train,y_train)\n",
    "y_pred=Regressor.predict(x_test)\n",
    "y_pred"
   ]
  },
  {
   "cell_type": "code",
   "execution_count": 31,
   "id": "d13b5649",
   "metadata": {},
   "outputs": [
    {
     "data": {
      "text/plain": [
       "0.9771755014300362"
      ]
     },
     "execution_count": 31,
     "metadata": {},
     "output_type": "execute_result"
    }
   ],
   "source": [
    "from sklearn.metrics import r2_score\n",
    "a=r2_score(y_test,y_pred)\n",
    "a"
   ]
  },
  {
   "cell_type": "code",
   "execution_count": null,
   "id": "45535d9d",
   "metadata": {},
   "outputs": [],
   "source": []
  },
  {
   "cell_type": "code",
   "execution_count": null,
   "id": "1c4c40a9",
   "metadata": {},
   "outputs": [],
   "source": []
  },
  {
   "cell_type": "code",
   "execution_count": null,
   "id": "ca0c81da",
   "metadata": {},
   "outputs": [],
   "source": []
  }
 ],
 "metadata": {
  "kernelspec": {
   "display_name": "Python 3 (ipykernel)",
   "language": "python",
   "name": "python3"
  },
  "language_info": {
   "codemirror_mode": {
    "name": "ipython",
    "version": 3
   },
   "file_extension": ".py",
   "mimetype": "text/x-python",
   "name": "python",
   "nbconvert_exporter": "python",
   "pygments_lexer": "ipython3",
   "version": "3.9.12"
  }
 },
 "nbformat": 4,
 "nbformat_minor": 5
}
